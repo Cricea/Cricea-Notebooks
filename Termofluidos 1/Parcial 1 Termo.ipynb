{
 "cells": [
  {
   "cell_type": "code",
   "execution_count": 3,
   "metadata": {},
   "outputs": [],
   "source": [
    "# Datos y Gráficas\n",
    "%matplotlib inline\n",
    "import matplotlib.pyplot as plt\n",
    "import pandas as pd"
   ]
  },
  {
   "cell_type": "markdown",
   "metadata": {},
   "source": [
    "PUNTO 1: SISTEMAS CERRADOS"
   ]
  },
  {
   "cell_type": "code",
   "execution_count": 13,
   "metadata": {},
   "outputs": [
    {
     "name": "stdout",
     "output_type": "stream",
     "text": [
      "valor delta_U:  12502380000.0 , valor Q_out:  1026000000 , valor Q_in:  13528380000.0\n",
      "la potencia necesaria es de  1252.6277777777777  kW\n"
     ]
    }
   ],
   "source": [
    "def calcular_potencia_pc(perdida_calor:float):\n",
    "    \"\"\"\n",
    "    Esta función calcula la potencia de acuerdo a los datos dados inicialmente\n",
    "    en el enunciado del parcial \n",
    "    Parameters:\n",
    "        Perdida_calor: cantidad de energia liberada al ambiente por metro cuadrado[W/m^2]\n",
    "    Return:\n",
    "        Valor de la potencia \n",
    "    \"\"\"\n",
    "    # Datos iniciales\n",
    "\n",
    "        # Condiciones\n",
    "    delta_T = 15  # Cambio de temperatura en °K\n",
    "       \n",
    "        # Tiempo\n",
    "    tiempo_horas = 3\n",
    "    tiempo_segundos = tiempo_horas * 3600  # s\n",
    "       \n",
    "        # Volumen de la piscina\n",
    "    longitud = 10  # m\n",
    "    ancho = 10  # m\n",
    "    profundidad = 2  # m\n",
    "    volumen = longitud * ancho * profundidad  # m³\n",
    "    area_superficial = longitud * ancho \n",
    "       \n",
    "        # Fluido\n",
    "    densidad_agua = 997  # kg/m³\n",
    "    capacidad_calorifica_agua = 4.18  # kJ/(kg*K)\n",
    "    masa_agua = volumen * densidad_agua  # kg\n",
    "    \n",
    "    # Qin - Qout = ΔU\n",
    "    delta_U =( capacidad_calorifica_agua * masa_agua * delta_T)*1000 # J\n",
    "    Q_out = (area_superficial * perdida_calor * tiempo_segundos) # J\n",
    "    Q_in= delta_U + Q_out # J\n",
    "    print('valor delta_U: ',delta_U,\n",
    "          ', valor Q_out: ',Q_out,\n",
    "          ', valor Q_in: ',Q_in)\n",
    "    # Potencia del calentador (en vatios)\n",
    "    potencia_calentador = (Q_in / tiempo_segundos)/1000  # kW\n",
    "    \n",
    "    #𝜼𝒄𝒂𝒍𝒆𝒏𝒕𝒂𝒅𝒐𝒓 𝒅𝒆 𝒂𝒈𝒖𝒂 = 𝐸𝑛𝑒𝑟𝑔í𝑎 𝑞𝑢𝑒 𝑒𝑙 𝒂𝒈𝒖𝒂 𝒄𝒂𝒍𝒊𝒆𝒏𝒕𝒆 𝒆𝒏𝒕𝒓𝒆𝒈𝒂 𝑎 𝑙𝑎 𝑐𝑎𝑠𝑎 / 𝐸𝑛𝑒𝑟𝑔í𝑎 𝒔𝒖𝒎𝒊𝒏𝒊𝒔𝒕𝒓𝒂𝒅𝒂 𝒂𝒍 𝒄𝒂𝒍𝒆𝒏𝒕𝒂𝒅𝒐r\n",
    "    #eficiencia = (delta_U/Q_in)* 100\n",
    "    #print(f'La potencia del calentador necesaria es de {potencia_calentador:.2f} vatios y la eficiencia es de {eficiencia} %')\n",
    "    return potencia_calentador\n",
    "def eficiencia():\n",
    "    # Datos iniciales\n",
    "\n",
    "        # Condiciones\n",
    "    delta_T = 15  # Cambio de temperatura en °K\n",
    "       \n",
    "        # Tiempo\n",
    "    tiempo_horas = 3\n",
    "    tiempo_segundos = tiempo_horas * 3600  # s\n",
    "       \n",
    "        # Volumen de la piscina\n",
    "    longitud = 10  # m\n",
    "    ancho = 10  # m\n",
    "    profundidad = 2  # m\n",
    "    volumen = longitud * ancho * profundidad  # m³\n",
    "    area_superficial = longitud * ancho \n",
    "       \n",
    "        # Fluido\n",
    "    densidad_agua = 997  # kg/m³\n",
    "    capacidad_calorifica_agua = 4,22  # kJ/(kg*K)\n",
    "    masa_agua = volumen * densidad_agua  # kg\n",
    "    \n",
    "    # Qin - Qout = ΔU\n",
    "    delta_U = capacidad_calorifica_agua * masa_agua * delta_T\n",
    "    Q_out = (area_superficial * perdida_calor * tiempo_segundos)/1000 # J\n",
    "    Q_in= delta_U + Q_out # J\n",
    "    efici = (delta_U/Q_in)* 100\n",
    "    return efici\n",
    "\n",
    "print('la potencia necesaria es de ',calcular_potencia_pc(950),' kW')\n",
    " "
   ]
  },
  {
   "cell_type": "markdown",
   "metadata": {},
   "source": [
    "OPCION 1:\n",
    "\n",
    "![Alt text](image-4.png)\n",
    "\n",
    "\n",
    "Calentador elegido: BOILER – CALENTADOR DE AGUA PARA ALBERCA CAP. HASTA 39,000 GALS. 90 KW 480 VOLTS 3 FASES MARCA H2OTEK MOD. BERA48-90-35T05 \\n\n",
    "Se requieren 14 para brindar la potencia necesaria \n",
    "\n",
    "\n",
    "\n",
    "teniendo en cuenta el valor del precio dado en pesos mexicanos 88058.02 podemos ver que en Colombia al ser 14 calentadores los que vamos a usar seria un valor de aproximadamente:\n",
    "71.552,41 USD ó  28.501'258.040 COP\n",
    "\n",
    "URL: https://h2otek.com/tienda/producto/boiler-calentador-de-agua-para-alberca-cap-hasta-39000-gals-90-kw-480-volts-3-fases-marca-h2otek-mod-bera48-90-35t05/\n",
    "\n",
    "OPCION 2:\n",
    "\n",
    "![Alt text](image-5.png)\n",
    "\n",
    "\n",
    "Calentador elegido: AGUA CALIENTE – CALDERA DE SUMINISTRO DE AGUA CALIENTE CAP. 2,000,000 BTUH 208 VOLTS CAP. CALENTAMIENTO (MBH) 1,940 CALOREX ELITEXL MOD. ELX-2000FVWHN \\n\n",
    "Se requieren 3 para brindar la potencia necesaria (sobra capacidad en caso de que cambien un poco las dimensiones de la piscina)\n",
    "\n",
    "\n",
    "\n",
    "teniendo en cuenta el valor del precio dado en pesos mexicanos ______ podemos ver que en Colombia al ser 3 calderas los que vamos a usar seria un valor de aproximadamente:\n",
    "_____ USD ó  _____ COP\n",
    "\n",
    "URL: https://h2otek.com/tienda/producto/agua-caliente-caldera-de-suministro-de-agua-caliente-cap-2000000-btuh-208-volts-cap-calentamiento-mbh-1940-calorex-elitexl-mod-elx-2000fvwhn/"
   ]
  },
  {
   "cell_type": "markdown",
   "metadata": {},
   "source": [
    "Si tomamos la opcion 2 de la cual sabemos su eficiencia (98%) podemos desarrollar el literal A).\n",
    "\n",
    "Por otro lado si tomamos la opcion 1 de la cual sabemos su precio podemos realizar el literal D).\n"
   ]
  },
  {
   "cell_type": "markdown",
   "metadata": {},
   "source": [
    "B)\n",
    "\n",
    "Usted debe entonces realizar una gráfica de Potencia del calentador en función de la \n",
    "pérdida de calor al ambiente. Evalúe diferentes valores en un rango de 800 W/m2 a 1 kW/m2.\n",
    "\n",
    "¿El calentador seleccionado en el numeral (a) le sigue sirviendo o hay alguno más eficiente?\n",
    "\n",
    "Rta:  El calentador seleccionado anteriormente es uno de los calentadores con mas eficiencia en el mercado (98%), la mayoria ronda entre el 90-95 % . Al tener 3 de estas calderas tenemos un potencial de 6'000.000 BTUH y segun los calculos al llegar alrededor de una perdida de 1200 (W/m²) el consumo en potencia seria de aprox. 1277.6277777777777  kW = 4359447,4009 BTUH, por lo tanto tendriamos una capacidad en reserva de aprox.  1640552.59 BTU =  480.7984 kW,   por lo cual no se llevaria las calderas al limite aumentando asi su durabilidad, y en caso de un rediseño hay capacidad para suplir la demanda en si es necesario."
   ]
  },
  {
   "cell_type": "code",
   "execution_count": 10,
   "metadata": {},
   "outputs": [
    {
     "name": "stdout",
     "output_type": "stream",
     "text": [
      "valor delta_U:  12502380000.0 , valor Q_out:  900720000 , valor Q_in:  13403100000.0\n",
      "valor delta_U:  12502380000.0 , valor Q_out:  927720000 , valor Q_in:  13430100000.0\n",
      "valor delta_U:  12502380000.0 , valor Q_out:  954720000 , valor Q_in:  13457100000.0\n",
      "valor delta_U:  12502380000.0 , valor Q_out:  988200000 , valor Q_in:  13490580000.0\n",
      "valor delta_U:  12502380000.0 , valor Q_out:  1038960000 , valor Q_in:  13541340000.0\n",
      "valor delta_U:  12502380000.0 , valor Q_out:  1168560000 , valor Q_in:  13670940000.0\n",
      "valor delta_U:  12502380000.0 , valor Q_out:  1171800000 , valor Q_in:  13674180000.0\n",
      "valor delta_U:  12502380000.0 , valor Q_out:  1175040000 , valor Q_in:  13677420000.0\n",
      "valor delta_U:  12502380000.0 , valor Q_out:  1195560000 , valor Q_in:  13697940000.0\n",
      "valor delta_U:  12502380000.0 , valor Q_out:  1290600000 , valor Q_in:  13792980000.0\n",
      "los datos de perdida de calor son:  [834, 859, 884, 915, 962, 1082, 1085, 1088, 1107, 1195]\n",
      "los datos de potencia son:  [1241.0277777777778, 1243.5277777777778, 1246.0277777777778, 1249.1277777777777, 1253.8277777777778, 1265.8277777777778, 1266.1277777777777, 1266.4277777777777, 1268.3277777777778, 1277.1277777777777]\n"
     ]
    },
    {
     "data": {
      "image/png": "[encoded data removed]",
      "text/plain": [
       "<Figure size 432x288 with 1 Axes>"
      ]
     },
     "metadata": {
      "needs_background": "light"
     },
     "output_type": "display_data"
    }
   ],
   "source": [
    "#print(92.42264450592982+7.577355494070165)\n",
    "import numpy as np\n",
    "import random\n",
    "# Datos de pérdida de calor y potencia del calentador en un rango de 800 a 1200 W/m²\n",
    "perdida_calor = aleatorios = [random.randint(800,1200) for _ in range(10)]  # en W/m²\n",
    "perdida_calor.sort(reverse=False)\n",
    "potencias_calentador=[]\n",
    "for i in perdida_calor:\n",
    "    dato=calcular_potencia_pc(i)\n",
    "    potencias_calentador.append(dato)\n",
    "potencias_calentador  # Utilizamos la potencia calculada previamente\n",
    "print('los datos de perdida de calor son: ',perdida_calor) \n",
    "print('los datos de potencia son: ',potencias_calentador)\n",
    "plt.scatter(perdida_calor, potencias_calentador)\n",
    "plt.xlabel('Pérdida de Calor al Ambiente (W/m²)')\n",
    "plt.ylabel('Potencia del Calentador (kW)')\n",
    "plt.title('Potencia del Calentador vs Pérdida de Calor')\n",
    "plt.tick_params(direction='out', length=5, width=0.75, grid_alpha=0.3)\n",
    "plt.xticks(rotation=0)\n",
    "plt.minorticks_on()\n",
    "plt.ylim(None, None)\n",
    "plt.xlim(None, None)\n",
    "plt.grid(True)\n",
    "plt.grid(visible=True, which='major', color='grey', linestyle='-')\n",
    "plt.grid(visible=True, which='minor', color='lightgrey', linestyle='-', alpha=0.2)\n",
    "plt.tight_layout;\n",
    "plt.show()\n"
   ]
  },
  {
   "cell_type": "markdown",
   "metadata": {},
   "source": [
    "C)\n",
    "\n",
    "Graficar cómo puede estar variando la potencia del calentador en función del volumen de la piscina. \n",
    "\n",
    "¿Esto genera algún cambio en su decisión respecto al calentador?\n",
    "\n",
    "Rta: No, debido a que si selecciono la opción 2 al tener 3 de estas calderas tenemos un potencial de 6'000.000 BTUH y segun los calculos al tener un volumen de 200 m³ el consumo en potencia seria de aprox. 1277.6277777777777  kW = 4359447,4009 BTUH, por lo tanto tendriamos una capacidad en reserva de aprox. 1640552.59 BTU = 480.7984 kW, asi que tendriamos una reserva de capacidad en caso de que la piscina tenga un mayor volumen, pero estas 3 calderas debido a esta reserva tambien estaria limitando el volumen de la piscina a 280.76 m³, teniendo en cuenta las condiciones iniciales excepto el volumen.\n",
    "\n",
    "            ||\n",
    "\n",
    "            ||\n",
    "\n",
    "            ||\n",
    "\n",
    "            ||\n",
    "\n",
    "            VV"
   ]
  },
  {
   "cell_type": "code",
   "execution_count": 20,
   "metadata": {},
   "outputs": [],
   "source": [
    "def calcular_potencia_v(volumen:float):\n",
    "    \"\"\"\n",
    "    Esta función calcula la potencia de acuerdo a los datos dados inicialmente\n",
    "    en el enunciado del parcial \n",
    "    Parameters:\n",
    "        Perdida_calor: cantidad de energia liberada al ambiente por metro cuadrado[W/m^2]\n",
    "    Return:\n",
    "        Valor de la potencia \n",
    "    \"\"\"\n",
    "    # Datos iniciales\n",
    "\n",
    "        # Condiciones\n",
    "    delta_T = 15  # Cambio de temperatura en °K\n",
    "       \n",
    "        # Tiempo\n",
    "    tiempo_horas = 3\n",
    "    tiempo_segundos = tiempo_horas * 3600  # s\n",
    "       \n",
    "        # Fluido\n",
    "    densidad_agua = 997  # kg/m³\n",
    "    capacidad_calorifica_agua = 4.18  # kJ/(kg*K)\n",
    "    masa_agua = volumen * densidad_agua  # kg\n",
    "    \n",
    "        # Qin - Qout = ΔU\n",
    "    delta_U = (capacidad_calorifica_agua * masa_agua * delta_T) * 1000 #J\n",
    "    # Asumimos que es la misma perdida de calor al ambiente que en el caso inicial\n",
    "    Q_out = 1026000000 # J \n",
    "    Q_in= delta_U + Q_out # J\n",
    "      \n",
    "    # Potencia del calentador (en vatios)\n",
    "    potencia_calentador = (Q_in / tiempo_segundos)/1000 # kW\n",
    "    \n",
    "    #𝜼𝒄𝒂𝒍𝒆𝒏𝒕𝒂𝒅𝒐𝒓 𝒅𝒆 𝒂𝒈𝒖𝒂 = 𝐸𝑛𝑒𝑟𝑔í𝑎 𝑞𝑢𝑒 𝑒𝑙 𝒂𝒈𝒖𝒂 𝒄𝒂𝒍𝒊𝒆𝒏𝒕𝒆 𝒆𝒏𝒕𝒓𝒆𝒈𝒂 𝑎 𝑙𝑎 𝑐𝑎𝑠𝑎 / 𝐸𝑛𝑒𝑟𝑔í𝑎 𝒔𝒖𝒎𝒊𝒏𝒊𝒔𝒕𝒓𝒂𝒅𝒂 𝒂𝒍 𝒄𝒂𝒍𝒆𝒏𝒕𝒂𝒅𝒐r\n",
    "    #eficiencia = (delta_U/Q_in)* 100\n",
    "    #print(f'La potencia del calentador necesaria es de {potencia_calentador:.2f} vatios y la eficiencia es de {eficiencia} %')\n",
    "    return potencia_calentador\n"
   ]
  },
  {
   "cell_type": "code",
   "execution_count": 23,
   "metadata": {},
   "outputs": [
    {
     "name": "stdout",
     "output_type": "stream",
     "text": [
      "[55, 115, 128, 206, 222, 274, 279, 283, 314, 320]\n",
      "[413.34763888888887, 760.6359722222221, 835.8817777777778, 1287.356611111111, 1379.9668333333332, 1680.9500555555555, 1709.8907499999996, 1733.0433055555554, 1912.4756111111108, 1947.2044444444446]\n"
     ]
    },
    {
     "data": {
      "image/png": "[encoded data removed]",
      "text/plain": [
       "<Figure size 432x288 with 1 Axes>"
      ]
     },
     "metadata": {
      "needs_background": "light"
     },
     "output_type": "display_data"
    }
   ],
   "source": [
    "# Lista de volúmenes de piscina a considerar\n",
    "#volumenes = [50, 80, 100, 120, 150, 200]  # m³\n",
    "volumenes = aleatorios = [random.randint(50 ,320) for _ in range(10)]  # en m³\n",
    "volumenes.sort(reverse=False)\n",
    "print(volumenes)\n",
    "# Calculamos la potencia del calentador para cada volumen\n",
    "potencias = []\n",
    "for vol in volumenes:\n",
    "    potencia=calcular_potencia_v(vol)\n",
    "    potencias.append(potencia)\n",
    "print(potencias)\n",
    "# Graficamos\n",
    "plt.scatter(volumenes, potencias)\n",
    "plt.xlabel('Volumen de la Piscina (m³)')\n",
    "plt.ylabel('Potencia del Calentador (kW)')\n",
    "plt.title('Potencia del Calentador vs Volumen de la Piscina')\n",
    "plt.tick_params(direction='out', length=5, width=0.75, grid_alpha=0.3)\n",
    "plt.xticks(rotation=0)\n",
    "plt.minorticks_on()\n",
    "plt.ylim(None, None)\n",
    "plt.xlim(None, None)\n",
    "plt.grid(True)\n",
    "plt.grid(visible=True, which='major', color='grey', linestyle='-')\n",
    "plt.grid(visible=True, which='minor', color='lightgrey', linestyle='-', alpha=0.2)\n",
    "plt.tight_layout;\n",
    "plt.show()"
   ]
  },
  {
   "cell_type": "markdown",
   "metadata": {},
   "source": [
    "D)\n",
    "\n",
    "Para este último punto, asuma que el cliente encenderá el calentador durante 3 horas al día, los 7 días de la semana. Para calcular la cuota mensual tenga en cuenta la cantidad de horas al mes que se usa el  calentador,  la  potencia  del  calentador  y  el  precio  ($/kWh)  según  lo  que  aparece  en  su  factura  de servicio eléctrico del último mes.\n",
    "\n",
    "![Alt text](<Imagen de WhatsApp 2023-09-24 a las 13.27.07.jpg>)\n",
    "\n",
    "¿Cuántos meses deben pasar para que su cliente le pague el precio del calentador?\n",
    "\n",
    "Deben pasar 313 meses , es decir aprox. 26 años (sin tener en cuentas costos de importación e instalación)"
   ]
  },
  {
   "cell_type": "code",
   "execution_count": 38,
   "metadata": {},
   "outputs": [
    {
     "name": "stdout",
     "output_type": "stream",
     "text": [
      "Si el calentador se usa 3 horas x dia, durante 30  dias, con un valor de kWh de:  809.72 COP. El valor de consumo mensual en kWh sera de:  91284431.976 COP\n",
      "Con el valor total de proyecto de  28501258040 COP. teniendo en cuenta el valor de consumo mensual 91284431.976 COP, el numero de cuotas seria de:  312.22474000269176 , con un valor de:  91284431.976 COP\n"
     ]
    }
   ],
   "source": [
    "valor_kWh= 809.72 # COP$\n",
    "kW_usado= 1252.62 #kW\n",
    "horas_uso = 3\n",
    "dias_uso = 30\n",
    "uso_mensual = (horas_uso*kW_usado)*dias_uso # kWh\n",
    "uso_mensual\n",
    "costo_mensual = valor_kWh* uso_mensual\n",
    "\n",
    "costo_total = 28501258040 #COP\n",
    "numero_cuotas = costo_total/costo_mensual\n",
    "valor_couta = costo_total/numero_cuotas\n",
    "print('Si el calentador se usa', horas_uso,'horas x dia, durante', dias_uso ,' dias, con un valor de kWh de: ', valor_kWh,'COP. El valor de consumo mensual en kWh sera de: ',costo_mensual,'COP')\n",
    "print('Con el valor total de proyecto de ', costo_total,'COP. teniendo en cuenta el valor de consumo mensual', costo_mensual ,'COP, el numero de cuotas seria de: ',numero_cuotas,\n",
    "      ', con un valor de: ',valor_couta,'COP')\n"
   ]
  },
  {
   "cell_type": "markdown",
   "metadata": {},
   "source": [
    "PUNTO 2: SISTEMAS ABIERTOS"
   ]
  },
  {
   "cell_type": "code",
   "execution_count": 43,
   "metadata": {},
   "outputs": [
    {
     "name": "stdout",
     "output_type": "stream",
     "text": [
      "El valor interpolado en T [°C]=30 es h [kJ/kg*K]=130.28\n",
      "La potencia producida por la turbina es de 99658.65 kW\n",
      "Utilidad con turbina A: -573347423214.952 COP\n",
      "Utilidad con turbina B: -521834957694.2177 COP\n",
      "Utilidad con turbina C: -519388085909.6504 COP\n"
     ]
    }
   ],
   "source": [
    "from scipy import interpolate\n",
    "\n",
    "# Datos dados\n",
    "flujo = 32.5  # Flujo másico en kg/s\n",
    "h1 = 3196.7  # Entalpía inicial en kJ/kg (valor a obtener de las tablas de vapor)\n",
    "\n",
    "# Interpolación de acuerdo a datos de la tabla\n",
    "x = [0, 20, 40, 60]\n",
    "y = [5.03, 88.61, 171.95, 255.36]\n",
    "\n",
    "f_linear = interpolate.interp1d(x, y, kind='linear')\n",
    "\n",
    "x_new = 30\n",
    "y_new = f_linear(x_new)\n",
    "\n",
    "print(f'El valor interpolado en T [°C]={x_new} es h [kJ/kg*K]={y_new}')\n",
    "\n",
    "h2 = y_new  # Entalpía final en kJ/kg (valor a obtener de las tablas de vapor)\n",
    "\n",
    "# Calcular potencia\n",
    "potencia = flujo * (h1 -h2)\n",
    "print(f'La potencia producida por la turbina es de {potencia} kW')\n",
    "\n",
    "\n",
    "turbinas = [\n",
    "    {'nombre': 'A', 'capacidad': 50, 'eficiencia': 0.9, 'costo_generador': 80, 'costo_operacion': 160},\n",
    "    {'nombre': 'B', 'capacidad': 100, 'eficiencia': 0.92, 'costo_generador': 160, 'costo_operacion': 160},\n",
    "    {'nombre': 'C', 'capacidad': 100, 'eficiencia': 0.93, 'costo_generador': 170, 'costo_operacion': 170}\n",
    "]\n",
    "\n",
    "#  Precio de Producción ($/kWh)\n",
    "precio_produccion = 809.72  # Valor proporcionado en el recibo\n",
    "\n",
    "# Utilidad para cada turbina\n",
    "for turbina in turbinas:\n",
    "    generacion_anual = potencia * 365 * 24 * turbina['eficiencia']  # kWh\n",
    "    costo_anual = generacion_anual * precio_produccion + turbina['costo_operacion']\n",
    "    utilidad = generacion_anual * turbina['costo_generador'] - costo_anual\n",
    "    print(f'Utilidad con turbina {turbina[\"nombre\"]}: {utilidad} COP')\n"
   ]
  },
  {
   "cell_type": "code",
   "execution_count": 46,
   "metadata": {},
   "outputs": [
    {
     "name": "stdout",
     "output_type": "stream",
     "text": [
      "El valor interpolado en T [°C]=280 es h [kJ/kg*K]=2856.74\n",
      "El valor interpolado en T [°C]=30 es h [kJ/kg*K]=130.28\n"
     ]
    }
   ],
   "source": [
    "def interpol_h1(temperatura:float):\n",
    "    x = [263.94, 275, 300, 350, 400, 450, 500, 600, 700, 800, 900, 1000, 1100, 1200, 1300] # temperaturas °C\n",
    "    y = [2794.2, 2839.5, 2925.7, 3069.3, 3196.7, 3317.2, 3434.7, 3666.9, 3900.3, 4137.7, 4380.2, 4628.3, 4882.1, 5141.3, 5405.7] # h [kJ/kg*K]\n",
    "\n",
    "    f_linear = interpolate.interp1d(x, y, kind='linear')\n",
    "\n",
    "    y_new = f_linear(temperatura)\n",
    "    print(f'El valor interpolado en T [°C]={temperatura} es h [kJ/kg*K]={y_new}')\n",
    "\n",
    "def interpol_h2(temperatura:float):\n",
    "    x = [0, 20, 40, 60, 260] # temperaturas °C\n",
    "    y = [5.03, 88.61, 171.95, 255.36, 1134.9] # h [kJ/kg*K]\n",
    "\n",
    "    f_linear = interpolate.interp1d(x, y, kind='linear')\n",
    "\n",
    "    y_new = f_linear(temperatura)\n",
    "    print(f'El valor interpolado en T [°C]={temperatura} es h [kJ/kg*K]={y_new}')\n",
    "interpol_h1(280)\n",
    "interpol_h2(30)"
   ]
  },
  {
   "cell_type": "code",
   "execution_count": 44,
   "metadata": {},
   "outputs": [
    {
     "ename": "NameError",
     "evalue": "name 'm_dot' is not defined",
     "output_type": "error",
     "traceback": [
      "\u001b[1;31m---------------------------------------------------------------------------\u001b[0m",
      "\u001b[1;31mNameError\u001b[0m                                 Traceback (most recent call last)",
      "\u001b[1;32mc:\\Users\\ASUS\\OneDrive - Universidad de los Andes\\Cricea-Notebooks\\Termofluidos 1\\Parcial 1 Termo.ipynb Cell 15\u001b[0m line \u001b[0;36m<cell line: 8>\u001b[1;34m()\u001b[0m\n\u001b[0;32m      <a href='vscode-notebook-cell:/c%3A/Users/ASUS/OneDrive%20-%20Universidad%20de%20los%20Andes/Cricea-Notebooks/Termofluidos%201/Parcial%201%20Termo.ipynb#X25sZmlsZQ%3D%3D?line=6'>7</a>\u001b[0m potencias \u001b[39m=\u001b[39m []\n\u001b[0;32m      <a href='vscode-notebook-cell:/c%3A/Users/ASUS/OneDrive%20-%20Universidad%20de%20los%20Andes/Cricea-Notebooks/Termofluidos%201/Parcial%201%20Termo.ipynb#X25sZmlsZQ%3D%3D?line=7'>8</a>\u001b[0m \u001b[39mfor\u001b[39;00m temp_agua \u001b[39min\u001b[39;00m temperaturas_agua:\n\u001b[0;32m      <a href='vscode-notebook-cell:/c%3A/Users/ASUS/OneDrive%20-%20Universidad%20de%20los%20Andes/Cricea-Notebooks/Termofluidos%201/Parcial%201%20Termo.ipynb#X25sZmlsZQ%3D%3D?line=8'>9</a>\u001b[0m     \u001b[39m# ... Código para obtener h1 y h2 a partir de la temperatura\u001b[39;00m\n\u001b[1;32m---> <a href='vscode-notebook-cell:/c%3A/Users/ASUS/OneDrive%20-%20Universidad%20de%20los%20Andes/Cricea-Notebooks/Termofluidos%201/Parcial%201%20Termo.ipynb#X25sZmlsZQ%3D%3D?line=9'>10</a>\u001b[0m     P \u001b[39m=\u001b[39m m_dot \u001b[39m*\u001b[39m (h1 \u001b[39m-\u001b[39m h2)\n\u001b[0;32m     <a href='vscode-notebook-cell:/c%3A/Users/ASUS/OneDrive%20-%20Universidad%20de%20los%20Andes/Cricea-Notebooks/Termofluidos%201/Parcial%201%20Termo.ipynb#X25sZmlsZQ%3D%3D?line=10'>11</a>\u001b[0m     potencias\u001b[39m.\u001b[39mappend(P)\n\u001b[0;32m     <a href='vscode-notebook-cell:/c%3A/Users/ASUS/OneDrive%20-%20Universidad%20de%20los%20Andes/Cricea-Notebooks/Termofluidos%201/Parcial%201%20Termo.ipynb#X25sZmlsZQ%3D%3D?line=12'>13</a>\u001b[0m \u001b[39m# Graficar\u001b[39;00m\n",
      "\u001b[1;31mNameError\u001b[0m: name 'm_dot' is not defined"
     ]
    }
   ],
   "source": [
    "import matplotlib.pyplot as plt\n",
    "# c) Gráfica de potencia vs. temperatura de entrada del agua:\n",
    "# Definir temperaturas de entrada del agua\n",
    "temperaturas_agua = aleatorios = [random.randint(275,1300) for _ in range(10)]  # Lista de temperaturas en °C\n",
    "\n",
    "# Calcular potencia para cada temperatura\n",
    "potencias = []\n",
    "for temp_agua in temperaturas_agua:\n",
    "    # ... Código para obtener h1 \n",
    "    #  h2 a partir de la temperatura\n",
    "    \n",
    "    P = flujo * (h1 - h2)\n",
    "    potencias.append(P)\n",
    "\n",
    "# Graficar\n",
    "plt.plot(temperaturas_agua, potencias)\n",
    "plt.xlabel('Temperatura de Entrada del Agua (°C)')\n",
    "plt.ylabel('Potencia de la Turbina (kW)')\n",
    "plt.title('Potencia de la Turbina vs Temperatura de Entrada del Agua')\n",
    "plt.show()\n",
    "\n",
    "\n",
    "# d) Gráfica de potencia vs. presión de entrada del agua:\n",
    "# Definir presiones de entrada del agua\n",
    "presiones_agua = [...]  # Lista de presiones en MPa\n",
    "\n",
    "# Calcular potencia para cada presión\n",
    "potencias = []\n",
    "for presion_agua in presiones_agua:\n",
    "    # ... Código para obtener h1 y h2 a partir de la presión\n",
    "    P = m_dot * (h1 - h2)\n",
    "    potencias.append(P)\n",
    "\n",
    "# Graficar\n",
    "plt.plot(presiones_agua, potencias)\n",
    "plt.xlabel('Presión de Entrada del Agua (MPa)')\n",
    "plt.ylabel('Potencia de la Turbina (kW)')\n",
    "plt.title('Potencia de la Turbina vs Presión de Entrada del Agua')\n",
    "plt.show()\n"
   ]
  }
 ],
 "metadata": {
  "kernelspec": {
   "display_name": "base",
   "language": "python",
   "name": "python3"
  },
  "language_info": {
   "codemirror_mode": {
    "name": "ipython",
    "version": 3
   },
   "file_extension": ".py",
   "mimetype": "text/x-python",
   "name": "python",
   "nbconvert_exporter": "python",
   "pygments_lexer": "ipython3",
   "version": "3.9.12"
  },
  "orig_nbformat": 4
 },
 "nbformat": 4,
 "nbformat_minor": 2
}
