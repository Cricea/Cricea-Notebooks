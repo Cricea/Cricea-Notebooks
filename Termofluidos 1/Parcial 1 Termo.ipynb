{
 "cells": [
  {
   "cell_type": "code",
   "execution_count": 3,
   "metadata": {},
   "outputs": [],
   "source": [
    "# Datos y Gráficas\n",
    "%matplotlib inline\n",
    "import matplotlib.pyplot as plt\n",
    "import pandas as pd"
   ]
  },
  {
   "cell_type": "code",
   "execution_count": 4,
   "metadata": {},
   "outputs": [
    {
     "name": "stdout",
     "output_type": "stream",
     "text": [
      "valor delta_U:  12502380000.0 , valor Q_out:  1026000000 , valor Q_in:  13528380000.0\n",
      "la potencia necesaria es de  1252.6277777777777  kW\n"
     ]
    }
   ],
   "source": [
    "def calcular_potencia_pc(perdida_calor:float):\n",
    "    \"\"\"\n",
    "    Esta función calcula la potencia de acuerdo a los datos dados inicialmente\n",
    "    en el enunciado del parcial \n",
    "    Parameters:\n",
    "        Perdida_calor: cantidad de energia liberada al ambiente por metro cuadrado[W/m^2]\n",
    "    Return:\n",
    "        Valor de la potencia \n",
    "    \"\"\"\n",
    "    # Datos iniciales\n",
    "\n",
    "        # Condiciones\n",
    "    delta_T = 15  # Cambio de temperatura en °K\n",
    "       \n",
    "        # Tiempo\n",
    "    tiempo_horas = 3\n",
    "    tiempo_segundos = tiempo_horas * 3600  # s\n",
    "       \n",
    "        # Volumen de la piscina\n",
    "    longitud = 10  # m\n",
    "    ancho = 10  # m\n",
    "    profundidad = 2  # m\n",
    "    volumen = longitud * ancho * profundidad  # m³\n",
    "    area_superficial = longitud * ancho \n",
    "       \n",
    "        # Fluido\n",
    "    densidad_agua = 997  # kg/m³\n",
    "    capacidad_calorifica_agua = 4.18  # kJ/(kg*K)\n",
    "    masa_agua = volumen * densidad_agua  # kg\n",
    "    \n",
    "    # Qin - Qout = ΔU\n",
    "    delta_U =( capacidad_calorifica_agua * masa_agua * delta_T)*1000 # J\n",
    "    Q_out = (area_superficial * perdida_calor * tiempo_segundos) # J\n",
    "    Q_in= delta_U + Q_out # J\n",
    "    print('valor delta_U: ',delta_U,\n",
    "          ', valor Q_out: ',Q_out,\n",
    "          ', valor Q_in: ',Q_in)\n",
    "    # Potencia del calentador (en vatios)\n",
    "    potencia_calentador = (Q_in / tiempo_segundos)/1000  # kW\n",
    "    \n",
    "    #𝜼𝒄𝒂𝒍𝒆𝒏𝒕𝒂𝒅𝒐𝒓 𝒅𝒆 𝒂𝒈𝒖𝒂 = 𝐸𝑛𝑒𝑟𝑔í𝑎 𝑞𝑢𝑒 𝑒𝑙 𝒂𝒈𝒖𝒂 𝒄𝒂𝒍𝒊𝒆𝒏𝒕𝒆 𝒆𝒏𝒕𝒓𝒆𝒈𝒂 𝑎 𝑙𝑎 𝑐𝑎𝑠𝑎 / 𝐸𝑛𝑒𝑟𝑔í𝑎 𝒔𝒖𝒎𝒊𝒏𝒊𝒔𝒕𝒓𝒂𝒅𝒂 𝒂𝒍 𝒄𝒂𝒍𝒆𝒏𝒕𝒂𝒅𝒐r\n",
    "    #eficiencia = (delta_U/Q_in)* 100\n",
    "    #print(f'La potencia del calentador necesaria es de {potencia_calentador:.2f} vatios y la eficiencia es de {eficiencia} %')\n",
    "    return potencia_calentador\n",
    "def eficiencia():\n",
    "    # Datos iniciales\n",
    "\n",
    "        # Condiciones\n",
    "    delta_T = 15  # Cambio de temperatura en °K\n",
    "       \n",
    "        # Tiempo\n",
    "    tiempo_horas = 3\n",
    "    tiempo_segundos = tiempo_horas * 3600  # s\n",
    "       \n",
    "        # Volumen de la piscina\n",
    "    longitud = 10  # m\n",
    "    ancho = 10  # m\n",
    "    profundidad = 2  # m\n",
    "    volumen = longitud * ancho * profundidad  # m³\n",
    "    area_superficial = longitud * ancho \n",
    "       \n",
    "        # Fluido\n",
    "    densidad_agua = 997  # kg/m³\n",
    "    capacidad_calorifica_agua = 4,22  # kJ/(kg*K)\n",
    "    masa_agua = volumen * densidad_agua  # kg\n",
    "    \n",
    "    # Qin - Qout = ΔU\n",
    "    delta_U = capacidad_calorifica_agua * masa_agua * delta_T\n",
    "    Q_out = (area_superficial * perdida_calor * tiempo_segundos)/1000 # J\n",
    "    Q_in= delta_U + Q_out # J\n",
    "    efici = (delta_U/Q_in)* 100\n",
    "    return efici\n",
    "\n",
    "print('la potencia necesaria es de ',calcular_potencia_pc(950),' kW')\n",
    " "
   ]
  },
  {
   "cell_type": "markdown",
   "metadata": {},
   "source": [
    "OPCION 1:\n",
    "\n",
    "![Alt text](image-4.png)\n",
    "\n",
    "\n",
    "Calentador elegido: BOILER – CALENTADOR DE AGUA PARA ALBERCA CAP. HASTA 39,000 GALS. 90 KW 480 VOLTS 3 FASES MARCA H2OTEK MOD. BERA48-90-35T05 \\n\n",
    "Se requieren 14 para brindar la potencia necesaria \n",
    "\n",
    "\n",
    "\n",
    "teniendo en cuenta el valor del precio dado en pesos mexicanos 88058.02 podemos ver que en Colombia al ser 14 calentadores los que vamos a usar seria un valor de aproximadamente:\n",
    "71.552,41 USD ó  28.501'258.040 COP\n",
    "\n",
    "OPCION 2:\n",
    "\n",
    "![Alt text](image-5.png)\n",
    "\n",
    "\n",
    "Calentador elegido: AGUA CALIENTE – CALDERA DE SUMINISTRO DE AGUA CALIENTE CAP. 2,000,000 BTUH 208 VOLTS CAP. CALENTAMIENTO (MBH) 1,940 CALOREX ELITEXL MOD. ELX-2000FVWHN \\n\n",
    "Se requieren 3 para brindar la potencia necesaria (sobra capacidad en caso de que cambien un poco las dimensiones de la piscina)\n",
    "\n",
    "\n",
    "\n",
    "teniendo en cuenta el valor del precio dado en pesos mexicanos ______ podemos ver que en Colombia al ser 3 calderas los que vamos a usar seria un valor de aproximadamente:\n",
    "_____ USD ó  _____ COP\n"
   ]
  },
  {
   "cell_type": "code",
   "execution_count": 5,
   "metadata": {},
   "outputs": [
    {
     "name": "stdout",
     "output_type": "stream",
     "text": [
      "valor delta_U:  12502380000.0 , valor Q_out:  907200000 , valor Q_in:  13409580000.0\n",
      "valor delta_U:  12502380000.0 , valor Q_out:  923400000 , valor Q_in:  13425780000.0\n",
      "valor delta_U:  12502380000.0 , valor Q_out:  1206360000 , valor Q_in:  13708740000.0\n",
      "valor delta_U:  12502380000.0 , valor Q_out:  1032480000 , valor Q_in:  13534860000.0\n",
      "valor delta_U:  12502380000.0 , valor Q_out:  916920000 , valor Q_in:  13419300000.0\n",
      "valor delta_U:  12502380000.0 , valor Q_out:  1077840000 , valor Q_in:  13580220000.0\n",
      "valor delta_U:  12502380000.0 , valor Q_out:  899640000 , valor Q_in:  13402020000.0\n",
      "valor delta_U:  12502380000.0 , valor Q_out:  1086480000 , valor Q_in:  13588860000.0\n",
      "valor delta_U:  12502380000.0 , valor Q_out:  1251720000 , valor Q_in:  13754100000.0\n",
      "valor delta_U:  12502380000.0 , valor Q_out:  941760000 , valor Q_in:  13444140000.0\n",
      "los datos de perdida de calor son:  [840, 855, 1117, 956, 849, 998, 833, 1006, 1159, 872]\n",
      "los datos de potencia son:  [1241.6277777777777, 1243.1277777777777, 1269.3277777777778, 1253.2277777777776, 1242.5277777777778, 1257.4277777777777, 1240.9277777777777, 1258.2277777777776, 1273.5277777777778, 1244.8277777777778]\n"
     ]
    },
    {
     "data": {
      "image/png": "[encoded data removed]",
      "text/plain": [
       "<Figure size 432x288 with 1 Axes>"
      ]
     },
     "metadata": {
      "needs_background": "light"
     },
     "output_type": "display_data"
    }
   ],
   "source": [
    "#print(92.42264450592982+7.577355494070165)\n",
    "import numpy as np\n",
    "import random\n",
    "# Datos de pérdida de calor y potencia del calentador en un rango de 800 a 1200 W/m²\n",
    "perdida_calor = aleatorios = [random.randint(800,1200) for _ in range(10)]  # en W/m²\n",
    "potencias_calentador=[]\n",
    "for i in perdida_calor:\n",
    "    dato=calcular_potencia_pc(i)\n",
    "    potencias_calentador.append(dato)\n",
    "potencias_calentador  # Utilizamos la potencia calculada previamente\n",
    "print('los datos de perdida de calor son: ',perdida_calor) \n",
    "print('los datos de potencia son: ',potencias_calentador)\n",
    "plt.scatter(perdida_calor, potencias_calentador)\n",
    "plt.xlabel('Pérdida de Calor al Ambiente (W/m²)')\n",
    "plt.ylabel('Potencia del Calentador (kW)')\n",
    "plt.title('Potencia del Calentador vs Pérdida de Calor')\n",
    "plt.tick_params(direction='out', length=5, width=0.75, grid_alpha=0.3)\n",
    "plt.xticks(rotation=0)\n",
    "plt.minorticks_on()\n",
    "plt.ylim(None, None)\n",
    "plt.xlim(None, None)\n",
    "plt.grid(True)\n",
    "plt.grid(visible=True, which='major', color='grey', linestyle='-')\n",
    "plt.grid(visible=True, which='minor', color='lightgrey', linestyle='-', alpha=0.2)\n",
    "plt.tight_layout;\n",
    "plt.show()\n"
   ]
  },
  {
   "cell_type": "code",
   "execution_count": 6,
   "metadata": {},
   "outputs": [
    {
     "name": "stdout",
     "output_type": "stream",
     "text": [
      "[384.40694444444443, 558.0511111111111, 673.8138888888889, 789.5766666666666, 963.2208333333334, 1252.6277777777777]\n"
     ]
    },
    {
     "data": {
      "image/png": "[encoded data removed]",
      "text/plain": [
       "<Figure size 432x288 with 1 Axes>"
      ]
     },
     "metadata": {
      "needs_background": "light"
     },
     "output_type": "display_data"
    }
   ],
   "source": [
    "def calcular_potencia_v(volumen:float):\n",
    "    \"\"\"\n",
    "    Esta función calcula la potencia de acuerdo a los datos dados inicialmente\n",
    "    en el enunciado del parcial \n",
    "    Parameters:\n",
    "        Perdida_calor: cantidad de energia liberada al ambiente por metro cuadrado[W/m^2]\n",
    "    Return:\n",
    "        Valor de la potencia \n",
    "    \"\"\"\n",
    "    # Datos iniciales\n",
    "\n",
    "        # Condiciones\n",
    "    delta_T = 15  # Cambio de temperatura en °K\n",
    "       \n",
    "        # Tiempo\n",
    "    tiempo_horas = 3\n",
    "    tiempo_segundos = tiempo_horas * 3600  # s\n",
    "       \n",
    "        # Fluido\n",
    "    densidad_agua = 997  # kg/m³\n",
    "    capacidad_calorifica_agua = 4.18  # kJ/(kg*K)\n",
    "    masa_agua = volumen * densidad_agua  # kg\n",
    "    \n",
    "        # Qin - Qout = ΔU\n",
    "    delta_U = (capacidad_calorifica_agua * masa_agua * delta_T) * 1000 #J\n",
    "    # Asumimos que es la misma perdida de calor al ambiente que en el caso inicial\n",
    "    Q_out = 1026000000 # J \n",
    "    Q_in= delta_U + Q_out # J\n",
    "      \n",
    "    # Potencia del calentador (en vatios)\n",
    "    potencia_calentador = (Q_in / tiempo_segundos)/1000 # kW\n",
    "    \n",
    "    #𝜼𝒄𝒂𝒍𝒆𝒏𝒕𝒂𝒅𝒐𝒓 𝒅𝒆 𝒂𝒈𝒖𝒂 = 𝐸𝑛𝑒𝑟𝑔í𝑎 𝑞𝑢𝑒 𝑒𝑙 𝒂𝒈𝒖𝒂 𝒄𝒂𝒍𝒊𝒆𝒏𝒕𝒆 𝒆𝒏𝒕𝒓𝒆𝒈𝒂 𝑎 𝑙𝑎 𝑐𝑎𝑠𝑎 / 𝐸𝑛𝑒𝑟𝑔í𝑎 𝒔𝒖𝒎𝒊𝒏𝒊𝒔𝒕𝒓𝒂𝒅𝒂 𝒂𝒍 𝒄𝒂𝒍𝒆𝒏𝒕𝒂𝒅𝒐r\n",
    "    #eficiencia = (delta_U/Q_in)* 100\n",
    "    #print(f'La potencia del calentador necesaria es de {potencia_calentador:.2f} vatios y la eficiencia es de {eficiencia} %')\n",
    "    return potencia_calentador\n",
    "\n",
    "# Definimos una lista de volúmenes de piscina a considerar\n",
    "volumenes = [50, 80, 100, 120, 150, 200]  # m³\n",
    "\n",
    "# Calculamos la potencia del calentador para cada volumen\n",
    "potencias = []\n",
    "for vol in volumenes:\n",
    "    potencia=calcular_potencia_v(vol)\n",
    "    potencias.append(potencia)\n",
    "print(potencias)\n",
    "# Graficamos\n",
    "plt.scatter(volumenes, potencias)\n",
    "plt.xlabel('Volumen de la Piscina (m³)')\n",
    "plt.ylabel('Potencia del Calentador (kW)')\n",
    "plt.title('Potencia del Calentador vs Volumen de la Piscina')\n",
    "plt.tick_params(direction='out', length=5, width=0.75, grid_alpha=0.3)\n",
    "plt.xticks(rotation=0)\n",
    "plt.minorticks_on()\n",
    "plt.ylim(None, None)\n",
    "plt.xlim(None, None)\n",
    "plt.grid(True)\n",
    "plt.grid(visible=True, which='major', color='grey', linestyle='-')\n",
    "plt.grid(visible=True, which='minor', color='lightgrey', linestyle='-', alpha=0.2)\n",
    "plt.tight_layout;\n",
    "plt.show()\n"
   ]
  },
  {
   "cell_type": "markdown",
   "metadata": {},
   "source": [
    "Provedores calentadores de piscinas\n",
    "https://www.rheem.com.co/soluciones-para-piscinas/\n",
    "\n",
    "https://h2otek.com/tienda/categoria-producto/electricos-boilers-calentadores-de-agua/?product-page=26\n"
   ]
  }
 ],
 "metadata": {
  "kernelspec": {
   "display_name": "base",
   "language": "python",
   "name": "python3"
  },
  "language_info": {
   "codemirror_mode": {
    "name": "ipython",
    "version": 3
   },
   "file_extension": ".py",
   "mimetype": "text/x-python",
   "name": "python",
   "nbconvert_exporter": "python",
   "pygments_lexer": "ipython3",
   "version": "3.9.12"
  },
  "orig_nbformat": 4
 },
 "nbformat": 4,
 "nbformat_minor": 2
}
