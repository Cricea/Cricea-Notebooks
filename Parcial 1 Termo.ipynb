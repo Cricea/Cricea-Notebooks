{
 "cells": [
  {
   "cell_type": "code",
   "execution_count": 6,
   "metadata": {},
   "outputs": [
    {
     "name": "stdout",
     "output_type": "stream",
     "text": [
      "Requirement already satisfied: Pint in c:\\users\\asus\\anaconda3\\lib\\site-packages (0.22)\n",
      "Requirement already satisfied: typing-extensions in c:\\users\\asus\\anaconda3\\lib\\site-packages (from Pint) (4.1.1)\n"
     ]
    }
   ],
   "source": [
    "# Datos y Gráficas\n",
    "%matplotlib inline\n",
    "import matplotlib.pyplot as plt"
   ]
  },
  {
   "cell_type": "code",
   "execution_count": 15,
   "metadata": {},
   "outputs": [
    {
     "name": "stdout",
     "output_type": "stream",
     "text": [
      "La potencia del calentador necesaria es de 1253735.56 vatios\n"
     ]
    },
    {
     "data": {
      "text/plain": [
       "\"\\n# Datos de pérdida de calor y potencia del calentador (ejemplo)\\nperdida_calor = [800, 900, 1000, 1100, 1200]  # en W/m²\\nfor i in perdida_calor:\\n    potencias_calentador=[]\\n    dato=calcular_potencia(i)\\n    potencias_calentador.append(dato)\\npotencias_calentador  # Utilizamos la potencia calculada previamente\\n\\ndf=[potencias_calentador]\\nplt.plot(perdida_calor, potencias_calentador)\\nplt.xlabel('Pérdida de Calor al Ambiente (W/m²)')\\nplt.ylabel('Potencia del Calentador (W)')\\nplt.title('Potencia del Calentador vs Pérdida de Calor')\\nplt.show()\\n\""
      ]
     },
     "execution_count": 15,
     "metadata": {},
     "output_type": "execute_result"
    }
   ],
   "source": [
    "def calcular_potencia(perdida_calor:float):\n",
    "    \"\"\"\n",
    "    Esta función calcula la potencia de acuerdo a los datos dados inicialmente\n",
    "    en el enunciado del parcial \n",
    "    Parameters:\n",
    "        Perdida_calor: cantidad de energia liberada al ambiente por metro cuadrado[W/m^2]\n",
    "    Return:\n",
    "        Valor de la potencia \n",
    "    \"\"\"\n",
    "    # Datos iniciales\n",
    "\n",
    "        # Condiciones\n",
    "    delta_T = 15  # Cambio de temperatura en °K\n",
    "       \n",
    "        # Tiempo\n",
    "    tiempo_horas = 3\n",
    "    tiempo_segundos = tiempo_horas * 3600  # s\n",
    "       \n",
    "        # Volumen de la piscina\n",
    "    longitud = 10  # m\n",
    "    ancho = 10  # m\n",
    "    profundidad = 2  # m\n",
    "    volumen = longitud * ancho * profundidad  # m³\n",
    "    area_superficial = longitud * ancho \n",
    "       \n",
    "        # Fluido\n",
    "    densidad_agua = 997  # kg/m³\n",
    "    capacidad_calorifica_agua = 4184  # J/(kg*K)\n",
    "    masa_agua = volumen * densidad_agua  # kg\n",
    "    \n",
    "    # Qin - Qout = ΔU\n",
    "    delta_U = capacidad_calorifica_agua * masa_agua * delta_T\n",
    "    Q_out = area_superficial * perdida_calor * tiempo_segundos # J\n",
    "    Q_in= delta_U + Q_out # J\n",
    "      \n",
    "    # Potencia del calentador (en vatios)\n",
    "    potencia_calentador = Q_in / tiempo_segundos  # W\n",
    "    return print(f'La potencia del calentador necesaria es de {potencia_calentador:.2f} vatios')\n",
    "calcular_potencia(950)\n",
    " \n",
    "#print(f'La potencia del calentador necesaria es de {calcular_potencia2(950):.2f} vatios')\n",
    "#print(f'La eficiencia del calentador es del {eficiencia * 100:.2f}%') \n",
    "\n",
    "\"\"\"\n",
    "# Datos de pérdida de calor y potencia del calentador (ejemplo)\n",
    "perdida_calor = [800, 900, 1000, 1100, 1200]  # en W/m²\n",
    "for i in perdida_calor:\n",
    "    potencias_calentador=[]\n",
    "    dato=calcular_potencia(i)\n",
    "    potencias_calentador.append(dato)\n",
    "potencias_calentador  # Utilizamos la potencia calculada previamente\n",
    "\n",
    "df=[potencias_calentador]\n",
    "plt.plot(perdida_calor, potencias_calentador)\n",
    "plt.xlabel('Pérdida de Calor al Ambiente (W/m²)')\n",
    "plt.ylabel('Potencia del Calentador (W)')\n",
    "plt.title('Potencia del Calentador vs Pérdida de Calor')\n",
    "plt.show()\n",
    "\"\"\""
   ]
  },
  {
   "cell_type": "markdown",
   "metadata": {},
   "source": [
    "Provedores calentadores de piscinas\n",
    "https://www.rheem.com.co/soluciones-para-piscinas/"
   ]
  }
 ],
 "metadata": {
  "kernelspec": {
   "display_name": "base",
   "language": "python",
   "name": "python3"
  },
  "language_info": {
   "codemirror_mode": {
    "name": "ipython",
    "version": 3
   },
   "file_extension": ".py",
   "mimetype": "text/x-python",
   "name": "python",
   "nbconvert_exporter": "python",
   "pygments_lexer": "ipython3",
   "version": "3.9.12"
  },
  "orig_nbformat": 4
 },
 "nbformat": 4,
 "nbformat_minor": 2
}
