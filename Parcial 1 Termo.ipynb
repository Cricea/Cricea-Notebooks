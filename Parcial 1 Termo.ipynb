{
 "cells": [
  {
   "cell_type": "code",
   "execution_count": null,
   "metadata": {},
   "outputs": [],
   "source": [
    "import scipy \n",
    "import sympy \n",
    "\n",
    "# Datos iniciales\n",
    "delta_T = 30 - 15  # Cambio de temperatura en °C\n",
    "tiempo_horas = 3\n",
    "densidad_agua = 997  # kg/m³\n",
    "capacidad_calorifica_agua = 4  # J/(kg°C)\n",
    "\n",
    "# Volumen de la piscina\n",
    "longitud = 10  # m\n",
    "ancho = 10  # m\n",
    "profundidad = 2  # m\n",
    "volumen = longitud * ancho * profundidad  # m³\n",
    "\n",
    "# Masa del agua\n",
    "masa_agua = volumen * densidad_agua  # kg\n",
    "\n",
    "# Energía requerida (en julios)\n",
    "energia_requerida = masa_agua * capacidad_calorifica_agua * delta_T  # J\n",
    "\n",
    "# Tiempo en segundos\n",
    "tiempo_segundos = tiempo_horas * 3600  # s\n",
    "\n",
    "# Potencia del calentador (en vatios)\n",
    "potencia_calentador = energia_requerida / tiempo_segundos  # W\n",
    "\n",
    "# Eficiencia asumida del 100%\n",
    "eficiencia = 1.0\n",
    "\n",
    "print(f'La potencia del calentador necesaria es de {potencia_calentador:.2f} vatios')\n",
    "print(f'La eficiencia del calentador es del {eficiencia * 100:.2f}%')\n"
   ]
  }
 ],
 "metadata": {
  "language_info": {
   "name": "python"
  },
  "orig_nbformat": 4
 },
 "nbformat": 4,
 "nbformat_minor": 2
}
