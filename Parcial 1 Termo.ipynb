{
 "cells": [
  {
   "cell_type": "code",
   "execution_count": 6,
   "metadata": {},
   "outputs": [
    {
     "name": "stdout",
     "output_type": "stream",
     "text": [
      "Requirement already satisfied: Pint in c:\\users\\asus\\anaconda3\\lib\\site-packages (0.22)\n",
      "Requirement already satisfied: typing-extensions in c:\\users\\asus\\anaconda3\\lib\\site-packages (from Pint) (4.1.1)\n"
     ]
    }
   ],
   "source": [
    "# Datos y Gráficas\n",
    "%matplotlib inline\n",
    "import matplotlib.pyplot as plt\n"
   ]
  },
  {
   "cell_type": "code",
   "execution_count": 2,
   "metadata": {},
   "outputs": [
    {
     "name": "stdout",
     "output_type": "stream",
     "text": [
      "La potencia del calentador necesaria es de 1168.71 vatios\n",
      "La potencia del calentador necesaria es de 1177.50 vatios\n"
     ]
    }
   ],
   "source": [
    "# Datos dados\n",
    "delta_T = 30 - 15  # Cambio de temperatura en °K\n",
    "tiempo_horas = 3\n",
    "densidad_agua = 997  # kg/m³\n",
    "capacidad_calorifica_agua = 4.22  # kJ/(kg*K)\n",
    "perdida_calor= 950 #[W/m^2]\n",
    "##print(type(capacidad_calorifica_agua))\n",
    "\n",
    "# Volumen de la piscina\n",
    "longitud = 10  # m\n",
    "ancho = 10  # m\n",
    "profundidad = 2  # m\n",
    "volumen = longitud * ancho * profundidad  # m³\n",
    "area_superficial = longitud * ancho \n",
    "##print(type(volumen))\n",
    "\n",
    "# Masa del agua\n",
    "masa_agua = volumen * densidad_agua  # kg\n",
    "\n",
    "# Energía requerida (en kilojulios)\n",
    "energia_requerida = float(masa_agua) * float(delta_T) * capacidad_calorifica_agua\n",
    "##print((energia_requerida))\n",
    "\n",
    "# Tiempo en segundos\n",
    "tiempo_segundos = tiempo_horas * 3600  # s\n",
    "\n",
    "#Qin-Qout=ΔU\n",
    "delta_U = capacidad_calorifica_agua * masa_agua * delta_T\n",
    "Q_out = area_superficial * perdida_calor\n",
    "Q_in= delta_U + Q_out\n",
    "\n",
    "# Potencia del calentador (en vatios)\n",
    "potencia_calentador = energia_requerida / tiempo_segundos  # kW\n",
    "potencia_calentador2 = Q_in / tiempo_segundos  # kW\n",
    "# Eficiencia asumida del 100%\n",
    "eficiencia = 1.0\n",
    "\n",
    "print(f'La potencia del calentador necesaria es de {potencia_calentador:.2f} vatios')\n",
    "print(f'La potencia del calentador necesaria es de {potencia_calentador2:.2f} vatios')\n",
    "#print(f'La eficiencia del calentador es del {eficiencia * 100:.2f}%')\n"
   ]
  },
  {
   "cell_type": "markdown",
   "metadata": {},
   "source": [
    "Provedores calentadores de piscinas\n",
    "https://www.rheem.com.co/soluciones-para-piscinas/"
   ]
  }
 ],
 "metadata": {
  "kernelspec": {
   "display_name": "base",
   "language": "python",
   "name": "python3"
  },
  "language_info": {
   "codemirror_mode": {
    "name": "ipython",
    "version": 3
   },
   "file_extension": ".py",
   "mimetype": "text/x-python",
   "name": "python",
   "nbconvert_exporter": "python",
   "pygments_lexer": "ipython3",
   "version": "3.9.12"
  },
  "orig_nbformat": 4
 },
 "nbformat": 4,
 "nbformat_minor": 2
}
